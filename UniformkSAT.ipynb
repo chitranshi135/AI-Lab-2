{
  "nbformat": 4,
  "nbformat_minor": 0,
  "metadata": {
    "colab": {
      "provenance": [],
      "include_colab_link": true
    },
    "kernelspec": {
      "name": "python3",
      "display_name": "Python 3"
    },
    "language_info": {
      "name": "python"
    }
  },
  "cells": [
    {
      "cell_type": "markdown",
      "metadata": {
        "id": "view-in-github",
        "colab_type": "text"
      },
      "source": [
        "<a href=\"https://colab.research.google.com/github/chitranshi135/AI-Lab-2/blob/main/UniformkSAT.ipynb\" target=\"_parent\"><img src=\"https://colab.research.google.com/assets/colab-badge.svg\" alt=\"Open In Colab\"/></a>"
      ]
    },
    {
      "cell_type": "code",
      "execution_count": null,
      "metadata": {
        "id": "-X0UbHI-07XW"
      },
      "outputs": [],
      "source": [
        "import random"
      ]
    },
    {
      "cell_type": "code",
      "source": [
        "def generateInstance(n, k, m):\n",
        "\n",
        "  vars = []\n",
        "  for i in range(n):\n",
        "    vars.append((chr(i + 65)))\n",
        "\n",
        "  problem = \"((\"\n",
        "  clause = []\n",
        "\n",
        "  for i in range(k * m):\n",
        "\n",
        "    x = random.choice(vars)\n",
        "    vars.remove(x)\n",
        "    clause.append(x)\n",
        "\n",
        "    if(i % k == k - 1):\n",
        "      while len(clause) != 0:\n",
        "        vars.append(clause.pop(0))\n",
        "\n",
        "    y = random.random()\n",
        "    if y < 0.5:\n",
        "      problem += \"~\"\n",
        "    \n",
        "    problem += x\n",
        "\n",
        "    if i % k == k - 1 and i != (k * m - 1):\n",
        "      problem += \") and (\"\n",
        "    elif i != (k * m - 1):\n",
        "      problem += \" or \"\n",
        "  \n",
        "  problem += \"))\"\n",
        "      \n",
        "  return problem"
      ],
      "metadata": {
        "id": "OFx7GXdC1QGH"
      },
      "execution_count": null,
      "outputs": []
    },
    {
      "cell_type": "code",
      "source": [
        "for i in range(10):\n",
        "  print(\"Problem \", i+1, \": \", generateInstance(12, 3, 4))\n"
      ],
      "metadata": {
        "colab": {
          "base_uri": "https://localhost:8080/"
        },
        "id": "_0btPkRh22w2",
        "outputId": "ca268cc6-a03e-4a3d-cfef-a99dc97777af"
      },
      "execution_count": null,
      "outputs": [
        {
          "output_type": "stream",
          "name": "stdout",
          "text": [
            "Problem  1 :  ((~B or ~G or D) and (G or I or A) and (~K or G or ~F) and (E or ~H or ~L))\n",
            "Problem  2 :  ((~I or ~K or ~E) and (~C or A or ~G) and (C or H or ~F) and (C or A or I))\n",
            "Problem  3 :  ((I or ~K or ~B) and (A or C or G) and (I or C or ~H) and (L or K or ~F))\n",
            "Problem  4 :  ((~F or ~K or B) and (H or J or I) and (~H or ~G or ~E) and (J or ~L or I))\n",
            "Problem  5 :  ((J or ~E or ~A) and (G or D or E) and (A or J or ~F) and (C or E or F))\n",
            "Problem  6 :  ((I or L or A) and (B or ~E or ~J) and (~A or L or ~B) and (I or ~K or H))\n",
            "Problem  7 :  ((F or E or L) and (I or A or ~G) and (L or ~K or ~J) and (~A or I or ~D))\n",
            "Problem  8 :  ((F or B or A) and (~G or I or A) and (D or ~H or G) and (~H or L or J))\n",
            "Problem  9 :  ((~C or ~J or ~K) and (~L or ~G or A) and (B or H or ~K) and (~I or J or A))\n",
            "Problem  10 :  ((~H or D or F) and (F or L or G) and (E or ~B or I) and (~A or I or E))\n"
          ]
        }
      ]
    }
  ]
}